{
 "cells": [
  {
   "cell_type": "code",
   "execution_count": 1,
   "metadata": {},
   "outputs": [],
   "source": [
    "from utils import *\n",
    "from IPython.display import HTML, display"
   ]
  },
  {
   "cell_type": "code",
   "execution_count": 2,
   "metadata": {},
   "outputs": [],
   "source": [
    "from fastai2.text.all import *\n",
    "import pandas as pd"
   ]
  },
  {
   "cell_type": "code",
   "execution_count": 5,
   "metadata": {},
   "outputs": [],
   "source": [
    "# path = Path('.')\n",
    "df = pd.read_csv('titles_only.csv')\n",
    "df = df.drop(['Unnamed: 0'], axis=1)"
   ]
  },
  {
   "cell_type": "code",
   "execution_count": 6,
   "metadata": {},
   "outputs": [],
   "source": [
    "n = df.count()[0]\n",
    "is_val = [True for i in range(df.count()[0])]\n",
    "idx = [random.randint(0, n-1) for i in range(int(0.8*n))]"
   ]
  },
  {
   "cell_type": "code",
   "execution_count": 7,
   "metadata": {},
   "outputs": [
    {
     "data": {
      "text/plain": [
       "True"
      ]
     },
     "execution_count": 7,
     "metadata": {},
     "output_type": "execute_result"
    }
   ],
   "source": [
    "for i in idx:\n",
    "    is_val[i] = False\n",
    "\n",
    "len(is_val) == n"
   ]
  },
  {
   "cell_type": "code",
   "execution_count": 8,
   "metadata": {},
   "outputs": [],
   "source": [
    "df['is_valid'] = is_val"
   ]
  },
  {
   "cell_type": "code",
   "execution_count": 10,
   "metadata": {},
   "outputs": [
    {
     "name": "stdout",
     "output_type": "stream",
     "text": [
      "           label  \\\n",
      "0  [R]eddiquette   \n",
      "1       Politics   \n",
      "2       Politics   \n",
      "3    Coronavirus   \n",
      "4  Non-Political   \n",
      "\n",
      "                                                                                                                                text  \\\n",
      "0                                    Will donate thrice the number of upvotes (amount in Rs.) i get for this thread in next 24 hours   \n",
      "1                                                                                                                  Fuck all Religion   \n",
      "2  German exchange Student at IIT Madras is being sent back home by the Indian immigration department because he joined the protest.   \n",
      "3                                                                                                                  Today's The Hindu   \n",
      "4                                                                If you are not moved by this picture, I wish I had your heart. [NP]   \n",
      "\n",
      "   is_valid  \n",
      "0     False  \n",
      "1     False  \n",
      "2     False  \n",
      "3      True  \n",
      "4     False  \n"
     ]
    }
   ],
   "source": [
    "df = df.rename(columns={\"title\": \"text\", \"flair\": \"label\"})\n",
    "print(df.head())"
   ]
  },
  {
   "cell_type": "code",
   "execution_count": 12,
   "metadata": {},
   "outputs": [
    {
     "data": {
      "text/html": [],
      "text/plain": [
       "<IPython.core.display.HTML object>"
      ]
     },
     "metadata": {},
     "output_type": "display_data"
    },
    {
     "data": {
      "text/html": [
       "<table border=\"1\" class=\"dataframe\">\n",
       "  <thead>\n",
       "    <tr style=\"text-align: right;\">\n",
       "      <th></th>\n",
       "      <th>text</th>\n",
       "      <th>text_</th>\n",
       "    </tr>\n",
       "  </thead>\n",
       "  <tbody>\n",
       "    <tr>\n",
       "      <th>0</th>\n",
       "      <td>xxbos xxmaj bengaluru traffic cop stops xxmaj president ’s xxunk to let ambulance xxunk ; wins xxunk and xxunk too xxbos xxmaj in an xxunk xxunk society of xxmaj india , xxunk xxunk xxunk people about dog xxunk ! xxbos a xxunk xxunk celebrating xxmaj xxunk in xxmaj bengaluru ! ! xxbos xxmaj xxunk xxunk xxunk , xxunk xxunk beautiful . xxbos xxmaj xxunk work an family like a xxunk xxbos xxmaj</td>\n",
       "      <td>xxmaj bengaluru traffic cop stops xxmaj president ’s xxunk to let ambulance xxunk ; wins xxunk and xxunk too xxbos xxmaj in an xxunk xxunk society of xxmaj india , xxunk xxunk xxunk people about dog xxunk ! xxbos a xxunk xxunk celebrating xxmaj xxunk in xxmaj bengaluru ! ! xxbos xxmaj xxunk xxunk xxunk , xxunk xxunk beautiful . xxbos xxmaj xxunk work an family like a xxunk xxbos xxmaj deccan</td>\n",
       "    </tr>\n",
       "    <tr>\n",
       "      <th>1</th>\n",
       "      <td>so short and clear . xxmaj this is heart - xxunk , xxunk and too xxunk ! xxbos xxmaj into the xxmaj xxunk . ( mumbai edition ) xxbos i xxunk most of xxmaj xxunk inside xxmaj india xxbos \" xxunk \" ( 4 xxrep 3 0 xxunk xxrep 3 0 | xxmaj xxunk xxmaj xxunk , xxmaj hyderabad ) xxbos xxmaj why is that ? xxbos xxup xxunk and its xxmaj</td>\n",
       "      <td>short and clear . xxmaj this is heart - xxunk , xxunk and too xxunk ! xxbos xxmaj into the xxmaj xxunk . ( mumbai edition ) xxbos i xxunk most of xxmaj xxunk inside xxmaj india xxbos \" xxunk \" ( 4 xxrep 3 0 xxunk xxrep 3 0 | xxmaj xxunk xxmaj xxunk , xxmaj hyderabad ) xxbos xxmaj why is that ? xxbos xxup xxunk and its xxmaj xxunk</td>\n",
       "    </tr>\n",
       "    <tr>\n",
       "      <th>2</th>\n",
       "      <td>view from my xxunk while i leave my xxunk to xxunk xxunk , xxunk xxunk xxunk this place the xxunk 15 xxunk xxbos xxmaj xxunk xxmaj xxunk , xxmaj xxunk xxmaj xxunk and xxmaj xxunk xxmaj xxunk welcome you to xxmaj xxunk xxmaj xxunk xxmaj xxunk xxmaj college , xxmaj xxunk , xxmaj kerala . xxbos xxmaj just saw this on a temple . xxbos xxmaj xxunk like xxunk sense of xxunk</td>\n",
       "      <td>from my xxunk while i leave my xxunk to xxunk xxunk , xxunk xxunk xxunk this place the xxunk 15 xxunk xxbos xxmaj xxunk xxmaj xxunk , xxmaj xxunk xxmaj xxunk and xxmaj xxunk xxmaj xxunk welcome you to xxmaj xxunk xxmaj xxunk xxmaj xxunk xxmaj college , xxmaj xxunk , xxmaj kerala . xxbos xxmaj just saw this on a temple . xxbos xxmaj xxunk like xxunk sense of xxunk amidst</td>\n",
       "    </tr>\n",
       "    <tr>\n",
       "      <th>3</th>\n",
       "      <td>xxunk and a xxunk , do xxunk xxunk generated by xxunk . xxbos xxmaj manmohan xxmaj singh on xxmaj xxunk , xxmaj xxunk rape cases : \" pm xxmaj modi should xxunk own advice to me , speak more xxunk \" xxbos xxmaj muslim xxunk came , xxunk the xxunk &amp; also xxunk \" ram xxmaj xxunk xxmaj xxunk xxunk \" in the xxunk xxunk of a xxmaj hindu xxmaj man ,</td>\n",
       "      <td>and a xxunk , do xxunk xxunk generated by xxunk . xxbos xxmaj manmohan xxmaj singh on xxmaj xxunk , xxmaj xxunk rape cases : \" pm xxmaj modi should xxunk own advice to me , speak more xxunk \" xxbos xxmaj muslim xxunk came , xxunk the xxunk &amp; also xxunk \" ram xxmaj xxunk xxmaj xxunk xxunk \" in the xxunk xxunk of a xxmaj hindu xxmaj man , xxmaj</td>\n",
       "    </tr>\n",
       "    <tr>\n",
       "      <th>4</th>\n",
       "      <td>is xxunk xxunk or ' xxunk . xxmaj it 'll be xxunk if the father is born after the child … \" xxbos 500 rupee and 1 xxrep 3 0 rupee xxunk notes wo n't be legal xxunk any more xxbos xxmaj is this what we are xxunk into ? xxbos xxmaj finally , i was xxunk to change my xxmaj dad 's xxunk on xxup bjp .. xxbos xxmaj hindu man</td>\n",
       "      <td>xxunk xxunk or ' xxunk . xxmaj it 'll be xxunk if the father is born after the child … \" xxbos 500 rupee and 1 xxrep 3 0 rupee xxunk notes wo n't be legal xxunk any more xxbos xxmaj is this what we are xxunk into ? xxbos xxmaj finally , i was xxunk to change my xxmaj dad 's xxunk on xxup bjp .. xxbos xxmaj hindu man gets</td>\n",
       "    </tr>\n",
       "    <tr>\n",
       "      <th>5</th>\n",
       "      <td>r / xxmaj india , xxmaj i 've been doing some xxunk , xxunk xxunk of countries ' flags , here 's xxunk ] xxbos xxmaj social distancing in vegetable xxunk in xxmaj xxunk , xxmaj andhra xxbos a public xxunk from a xxunk doctor of xxmaj xxunk hospital in xxmaj delhi . # xxup xxunk xxbos xxmaj this is massive ! xxmaj india wins xxunk medals at xxmaj special xxmaj xxunk</td>\n",
       "      <td>/ xxmaj india , xxmaj i 've been doing some xxunk , xxunk xxunk of countries ' flags , here 's xxunk ] xxbos xxmaj social distancing in vegetable xxunk in xxmaj xxunk , xxmaj andhra xxbos a public xxunk from a xxunk doctor of xxmaj xxunk hospital in xxmaj delhi . # xxup xxunk xxbos xxmaj this is massive ! xxmaj india wins xxunk medals at xxmaj special xxmaj xxunk xxmaj</td>\n",
       "    </tr>\n",
       "  </tbody>\n",
       "</table>"
      ],
      "text/plain": [
       "<IPython.core.display.HTML object>"
      ]
     },
     "metadata": {},
     "output_type": "display_data"
    },
    {
     "name": "stdout",
     "output_type": "stream",
     "text": [
      "None\n"
     ]
    }
   ],
   "source": [
    "db = DataBlock(blocks=TextBlock.from_df('text', is_lm=True),\n",
    "                     get_x=ColReader('text'),\n",
    "                     splitter=ColSplitter()).dataloaders(df, bs=64, seq_len=72)\n",
    "print(db.show_batch(max_n=6))"
   ]
  },
  {
   "cell_type": "code",
   "execution_count": 13,
   "metadata": {},
   "outputs": [
    {
     "data": {
      "text/html": [],
      "text/plain": [
       "<IPython.core.display.HTML object>"
      ]
     },
     "metadata": {},
     "output_type": "display_data"
    },
    {
     "data": {
      "text/html": [
       "<table border=\"1\" class=\"dataframe\">\n",
       "  <thead>\n",
       "    <tr style=\"text-align: right;\">\n",
       "      <th></th>\n",
       "      <th>text</th>\n",
       "      <th>text_</th>\n",
       "    </tr>\n",
       "  </thead>\n",
       "  <tbody>\n",
       "    <tr>\n",
       "      <th>0</th>\n",
       "      <td>xxbos xxup gslv xxmaj xxunk 3 launch as xxunk from my office in xxmaj chennai . xxbos xxmaj russia xxunk xxmaj india , says xxup xxunk move ' xxunk out within xxunk of xxmaj xxunk ' xxbos xxmaj xxunk ! xxbos i started my xxmaj xxunk degree yesterday at the xxunk of 25 . xxbos xxmaj xxunk xxunk xxbos xxmaj into the xxmaj xxunk . ( mumbai edition ) xxbos xxmaj found</td>\n",
       "      <td>xxup gslv xxmaj xxunk 3 launch as xxunk from my office in xxmaj chennai . xxbos xxmaj russia xxunk xxmaj india , says xxup xxunk move ' xxunk out within xxunk of xxmaj xxunk ' xxbos xxmaj xxunk ! xxbos i started my xxmaj xxunk degree yesterday at the xxunk of 25 . xxbos xxmaj xxunk xxunk xxbos xxmaj into the xxmaj xxunk . ( mumbai edition ) xxbos xxmaj found this</td>\n",
       "    </tr>\n",
       "    <tr>\n",
       "      <th>1</th>\n",
       "      <td>xxunk of xxmaj rs 2 xxrep 4 0 crore . &gt; xxmaj free xxmaj xxunk to all for a month . &gt; 2 months ’ xxunk to be given xxunk . &gt; xxmaj one month xxunk to xxunk water &amp; power xxunk . &gt; xxmaj xxunk xxunk of xxmaj rs 500 crore . &gt; xxmaj xxunk xxup xxunk cases in the state is 25 xxbos xxmaj artist xxmaj xxunk xxmaj xxunk xxunk</td>\n",
       "      <td>of xxmaj rs 2 xxrep 4 0 crore . &gt; xxmaj free xxmaj xxunk to all for a month . &gt; 2 months ’ xxunk to be given xxunk . &gt; xxmaj one month xxunk to xxunk water &amp; power xxunk . &gt; xxmaj xxunk xxunk of xxmaj rs 500 crore . &gt; xxmaj xxunk xxup xxunk cases in the state is 25 xxbos xxmaj artist xxmaj xxunk xxmaj xxunk xxunk an</td>\n",
       "    </tr>\n",
       "    <tr>\n",
       "      <th>2</th>\n",
       "      <td>one lakh people have a xxrep 3 s xxunk . xxmaj say it is a xxunk meet . xxbos xxmaj xxunk xxmaj kerala , by xxmaj pencilashan xxbos xxmaj when your friends from the other species xxunk your wedding .. xxbos xxmaj modiji is xxunk because we have xxmaj real xxmaj xxunk # xxunk xxbos xxmaj no xxmaj yoga and xxmaj yoga . xxmaj xxunk xxbos xxmaj welcome to xxmaj indian xxmaj</td>\n",
       "      <td>lakh people have a xxrep 3 s xxunk . xxmaj say it is a xxunk meet . xxbos xxmaj xxunk xxmaj kerala , by xxmaj pencilashan xxbos xxmaj when your friends from the other species xxunk your wedding .. xxbos xxmaj modiji is xxunk because we have xxmaj real xxmaj xxunk # xxunk xxbos xxmaj no xxmaj yoga and xxmaj yoga . xxmaj xxunk xxbos xxmaj welcome to xxmaj indian xxmaj education</td>\n",
       "    </tr>\n",
       "    <tr>\n",
       "      <th>3</th>\n",
       "      <td>to xxunk this magnificent xxunk in xxmaj xxunk , xxmaj kerala - xxunk - iphone xxbos xxmaj why are you running , you asked for it ? xxbos xxmaj fuck all xxmaj religion xxbos [ np ] i see your xxmaj xxunk and xxunk you a little down south to xxmaj kashmir xxmaj xxunk . xxbos xxmaj found this in the xxunk of xxmaj hyderabad . xxmaj it works . xxbos xxmaj</td>\n",
       "      <td>xxunk this magnificent xxunk in xxmaj xxunk , xxmaj kerala - xxunk - iphone xxbos xxmaj why are you running , you asked for it ? xxbos xxmaj fuck all xxmaj religion xxbos [ np ] i see your xxmaj xxunk and xxunk you a little down south to xxmaj kashmir xxmaj xxunk . xxbos xxmaj found this in the xxunk of xxmaj hyderabad . xxmaj it works . xxbos xxmaj hindu</td>\n",
       "    </tr>\n",
       "    <tr>\n",
       "      <th>4</th>\n",
       "      <td>been trying to xxunk this for years now . xxmaj xxunk in xxunk , \" xxunk \" xxbos xxmaj xxunk xxmaj dog xxunk the lives of 30 xxmaj people in xxup up xxbos [ oc ] i painted a mural . xxbos xxmaj cartoon : xxmaj how xxmaj india 's xxup nrc xxunk xxup cab xxunk xxunk for xxmaj muslims . xxbos xxmaj the new xxunk rupee note ! xxmaj clear xxunk</td>\n",
       "      <td>trying to xxunk this for years now . xxmaj xxunk in xxunk , \" xxunk \" xxbos xxmaj xxunk xxmaj dog xxunk the lives of 30 xxmaj people in xxup up xxbos [ oc ] i painted a mural . xxbos xxmaj cartoon : xxmaj how xxmaj india 's xxup nrc xxunk xxup cab xxunk xxunk for xxmaj muslims . xxbos xxmaj the new xxunk rupee note ! xxmaj clear xxunk from</td>\n",
       "    </tr>\n",
       "    <tr>\n",
       "      <th>5</th>\n",
       "      <td>xxunk , no xxunk for xxunk workers . xxmaj that 's how building xxunk works in our country xxbos xxmaj tesla xxmaj xxunk xxmaj xxunk xxbos a xxmaj hero xxmaj will xxmaj xxunk , digital art by xxmaj xxunk xxmaj xxunk xxbos xxmaj xxunk students can xxunk xxbos xxmaj back in the day , almost every xxunk in xxmaj india had one of these ! xxbos xxmaj this is xxunk xxunk .</td>\n",
       "      <td>, no xxunk for xxunk workers . xxmaj that 's how building xxunk works in our country xxbos xxmaj tesla xxmaj xxunk xxmaj xxunk xxbos a xxmaj hero xxmaj will xxmaj xxunk , digital art by xxmaj xxunk xxmaj xxunk xxbos xxmaj xxunk students can xxunk xxbos xxmaj back in the day , almost every xxunk in xxmaj india had one of these ! xxbos xxmaj this is xxunk xxunk . xxbos</td>\n",
       "    </tr>\n",
       "  </tbody>\n",
       "</table>"
      ],
      "text/plain": [
       "<IPython.core.display.HTML object>"
      ]
     },
     "metadata": {},
     "output_type": "display_data"
    }
   ],
   "source": [
    "dls = db.dataloaders(df, bs=64, seq_len=72)\n",
    "dls.show_batch(max_n=6)"
   ]
  },
  {
   "cell_type": "code",
   "execution_count": 14,
   "metadata": {},
   "outputs": [],
   "source": [
    "db_clas = DataBlock(blocks=(TextBlock.from_df('text',seq_len=72, vocab=dls.vocab), CategoryBlock),\n",
    "                    get_x=ColReader('text'),\n",
    "                    get_y=ColReader('label'),\n",
    "                    splitter=ColSplitter())"
   ]
  },
  {
   "cell_type": "code",
   "execution_count": 15,
   "metadata": {},
   "outputs": [
    {
     "data": {
      "text/html": [],
      "text/plain": [
       "<IPython.core.display.HTML object>"
      ]
     },
     "metadata": {},
     "output_type": "display_data"
    },
    {
     "data": {
      "text/html": [
       "<table border=\"1\" class=\"dataframe\">\n",
       "  <thead>\n",
       "    <tr style=\"text-align: right;\">\n",
       "      <th></th>\n",
       "      <th>text</th>\n",
       "      <th>category</th>\n",
       "    </tr>\n",
       "  </thead>\n",
       "  <tbody>\n",
       "    <tr>\n",
       "      <th>0</th>\n",
       "      <td>xxbos xxmaj from xxmaj kerala xxunk 's xxmaj xxunk xxmaj xxunk . &gt; xxmaj financial xxunk of xxmaj rs 2 xxrep 4 0 crore . &gt; xxmaj free xxmaj xxunk to all for a month . &gt; 2 months ’ xxunk to be given xxunk . &gt; xxmaj one month xxunk to xxunk water &amp; power xxunk . &gt; xxmaj xxunk xxunk of xxmaj rs 500 crore . &gt; xxmaj xxunk xxup xxunk cases in the state is 25</td>\n",
       "      <td>Coronavirus</td>\n",
       "    </tr>\n",
       "    <tr>\n",
       "      <th>1</th>\n",
       "      <td>xxbos xxmaj life xxmaj pro xxmaj xxunk xxmaj india - xxmaj if you 're getting xxunk with \" xxunk xxmaj xxunk \" xxunk , do n't xxunk up or pick and xxunk xxunk the call . xxmaj pick the call , say you want the xxunk xxunk and tell them you 're xxunk and do n't have any xxunk . xxmaj they 're xxunk you as xxmaj xxunk on their xxup xxunk and xxunk clear of you .</td>\n",
       "      <td>Non-Political</td>\n",
       "    </tr>\n",
       "    <tr>\n",
       "      <th>2</th>\n",
       "      <td>xxbos [ np ] xxmaj this is xxmaj xxunk . xxmaj the xxmaj ambulance xxmaj driver who xxunk xxunk xxunk in 6 hours from xxunk xxunk of xxmaj kerala to the xxmaj xxunk end . xxmaj the ambulance was taking a xxunk day old baby from xxmaj xxunk xxmaj medical xxmaj college ( xxunk ) to xxup xxunk xxmaj hospital ( xxunk ) . xxmaj the ambulance xxunk xxup xxunk at xxunk today morning .</td>\n",
       "      <td>Non-Political</td>\n",
       "    </tr>\n",
       "    <tr>\n",
       "      <th>3</th>\n",
       "      <td>xxbos xxmaj that ’s my xxunk . xxmaj he was beaten and xxunk at xxmaj xxunk xxmaj metro xxmaj station just because he was asked his name and he replied xxmaj abdul xxmaj xxunk xxmaj khan . xxmaj please tell me that the xxunk of xxunk xxunk by the xxunk of this country shall not reach me . xxmaj it has xxunk . xxmaj and it xxunk reach you next . xxunk xxunk</td>\n",
       "      <td>Unverified</td>\n",
       "    </tr>\n",
       "    <tr>\n",
       "      <th>4</th>\n",
       "      <td>xxbos xxmaj rape of xxunk - old in xxmaj bengaluru : xxmaj xxunk of medical report and top xxunk 's xxunk gets accused off the xxunk . xxmaj the defence first xxunk that the child – the xxunk - year - old – was xxunk xxunk . xxmaj when this line was xxunk to , the defence xxunk that she had a xxunk xxunk . [ xxunk . ' xxunk ]</td>\n",
       "      <td>Non-Political</td>\n",
       "    </tr>\n",
       "    <tr>\n",
       "      <th>5</th>\n",
       "      <td>xxbos xxup xxunk : xxmaj documents xxmaj show xxmaj modi xxmaj govt xxmaj building xxunk xxmaj degree xxmaj xxunk xxmaj to xxmaj xxunk xxmaj every xxmaj indian : xxmaj documents xxunk under xxup xxunk show the govt is xxunk to use xxmaj aadhaar to xxunk xxunk every single xxmaj indian – from who they xxunk , address xxunk , financial xxunk – xxunk the xxmaj national xxmaj social xxmaj xxunk .</td>\n",
       "      <td>Politics</td>\n",
       "    </tr>\n",
       "  </tbody>\n",
       "</table>"
      ],
      "text/plain": [
       "<IPython.core.display.HTML object>"
      ]
     },
     "metadata": {},
     "output_type": "display_data"
    }
   ],
   "source": [
    "dls_clas = db_clas.dataloaders(df, bs=64)\n",
    "dls_clas.show_batch(max_n=6)"
   ]
  },
  {
   "cell_type": "code",
   "execution_count": 42,
   "metadata": {},
   "outputs": [],
   "source": [
    "learn = text_classifier_learner(dls_clas, AWD_LSTM).to_fp16()"
   ]
  },
  {
   "cell_type": "code",
   "execution_count": 43,
   "metadata": {},
   "outputs": [
    {
     "data": {
      "text/html": [
       "<table border=\"1\" class=\"dataframe\">\n",
       "  <thead>\n",
       "    <tr style=\"text-align: left;\">\n",
       "      <th>epoch</th>\n",
       "      <th>train_loss</th>\n",
       "      <th>valid_loss</th>\n",
       "      <th>time</th>\n",
       "    </tr>\n",
       "  </thead>\n",
       "  <tbody>\n",
       "    <tr>\n",
       "      <td>0</td>\n",
       "      <td>2.836569</td>\n",
       "      <td>2.573108</td>\n",
       "      <td>00:01</td>\n",
       "    </tr>\n",
       "  </tbody>\n",
       "</table>"
      ],
      "text/plain": [
       "<IPython.core.display.HTML object>"
      ]
     },
     "metadata": {},
     "output_type": "display_data"
    }
   ],
   "source": [
    "learn.fit_one_cycle(1, 2e-2)"
   ]
  },
  {
   "cell_type": "code",
   "execution_count": 44,
   "metadata": {},
   "outputs": [],
   "source": [
    "learn.save('1epoch')"
   ]
  },
  {
   "cell_type": "code",
   "execution_count": 45,
   "metadata": {},
   "outputs": [],
   "source": [
    "learn = learn.load('1epoch')"
   ]
  },
  {
   "cell_type": "code",
   "execution_count": 46,
   "metadata": {},
   "outputs": [
    {
     "data": {
      "text/html": [
       "<table border=\"1\" class=\"dataframe\">\n",
       "  <thead>\n",
       "    <tr style=\"text-align: left;\">\n",
       "      <th>epoch</th>\n",
       "      <th>train_loss</th>\n",
       "      <th>valid_loss</th>\n",
       "      <th>time</th>\n",
       "    </tr>\n",
       "  </thead>\n",
       "  <tbody>\n",
       "    <tr>\n",
       "      <td>0</td>\n",
       "      <td>2.646012</td>\n",
       "      <td>2.601434</td>\n",
       "      <td>00:01</td>\n",
       "    </tr>\n",
       "    <tr>\n",
       "      <td>1</td>\n",
       "      <td>2.419025</td>\n",
       "      <td>2.503597</td>\n",
       "      <td>00:01</td>\n",
       "    </tr>\n",
       "    <tr>\n",
       "      <td>2</td>\n",
       "      <td>2.151600</td>\n",
       "      <td>2.459481</td>\n",
       "      <td>00:01</td>\n",
       "    </tr>\n",
       "    <tr>\n",
       "      <td>3</td>\n",
       "      <td>1.891681</td>\n",
       "      <td>2.178750</td>\n",
       "      <td>00:01</td>\n",
       "    </tr>\n",
       "    <tr>\n",
       "      <td>4</td>\n",
       "      <td>1.608586</td>\n",
       "      <td>1.946914</td>\n",
       "      <td>00:01</td>\n",
       "    </tr>\n",
       "    <tr>\n",
       "      <td>5</td>\n",
       "      <td>1.376270</td>\n",
       "      <td>2.050924</td>\n",
       "      <td>00:01</td>\n",
       "    </tr>\n",
       "    <tr>\n",
       "      <td>6</td>\n",
       "      <td>1.187871</td>\n",
       "      <td>2.093295</td>\n",
       "      <td>00:01</td>\n",
       "    </tr>\n",
       "    <tr>\n",
       "      <td>7</td>\n",
       "      <td>1.033096</td>\n",
       "      <td>2.085832</td>\n",
       "      <td>00:01</td>\n",
       "    </tr>\n",
       "    <tr>\n",
       "      <td>8</td>\n",
       "      <td>0.902921</td>\n",
       "      <td>2.037826</td>\n",
       "      <td>00:01</td>\n",
       "    </tr>\n",
       "    <tr>\n",
       "      <td>9</td>\n",
       "      <td>0.797313</td>\n",
       "      <td>2.074220</td>\n",
       "      <td>00:01</td>\n",
       "    </tr>\n",
       "  </tbody>\n",
       "</table>"
      ],
      "text/plain": [
       "<IPython.core.display.HTML object>"
      ]
     },
     "metadata": {},
     "output_type": "display_data"
    }
   ],
   "source": [
    "learn.unfreeze()\n",
    "learn.fit_one_cycle(10, 2e-3)"
   ]
  },
  {
   "cell_type": "code",
   "execution_count": 47,
   "metadata": {},
   "outputs": [
    {
     "data": {
      "text/html": [
       "<table border=\"1\" class=\"dataframe\">\n",
       "  <thead>\n",
       "    <tr style=\"text-align: left;\">\n",
       "      <th>epoch</th>\n",
       "      <th>train_loss</th>\n",
       "      <th>valid_loss</th>\n",
       "      <th>time</th>\n",
       "    </tr>\n",
       "  </thead>\n",
       "  <tbody>\n",
       "    <tr>\n",
       "      <td>0</td>\n",
       "      <td>0.305075</td>\n",
       "      <td>2.017343</td>\n",
       "      <td>00:01</td>\n",
       "    </tr>\n",
       "    <tr>\n",
       "      <td>1</td>\n",
       "      <td>0.337997</td>\n",
       "      <td>2.923476</td>\n",
       "      <td>00:01</td>\n",
       "    </tr>\n",
       "    <tr>\n",
       "      <td>2</td>\n",
       "      <td>0.347018</td>\n",
       "      <td>2.645471</td>\n",
       "      <td>00:01</td>\n",
       "    </tr>\n",
       "    <tr>\n",
       "      <td>3</td>\n",
       "      <td>0.347965</td>\n",
       "      <td>2.531540</td>\n",
       "      <td>00:01</td>\n",
       "    </tr>\n",
       "    <tr>\n",
       "      <td>4</td>\n",
       "      <td>0.324167</td>\n",
       "      <td>2.418219</td>\n",
       "      <td>00:01</td>\n",
       "    </tr>\n",
       "    <tr>\n",
       "      <td>5</td>\n",
       "      <td>0.283112</td>\n",
       "      <td>2.303399</td>\n",
       "      <td>00:01</td>\n",
       "    </tr>\n",
       "  </tbody>\n",
       "</table>"
      ],
      "text/plain": [
       "<IPython.core.display.HTML object>"
      ]
     },
     "metadata": {},
     "output_type": "display_data"
    }
   ],
   "source": [
    "learn.unfreeze()\n",
    "learn.fit_one_cycle(6, 2e-3)"
   ]
  },
  {
   "cell_type": "code",
   "execution_count": 48,
   "metadata": {},
   "outputs": [],
   "source": [
    "learn.save_encoder('titles_model')"
   ]
  },
  {
   "cell_type": "code",
   "execution_count": 49,
   "metadata": {},
   "outputs": [
    {
     "data": {
      "text/html": [],
      "text/plain": [
       "<IPython.core.display.HTML object>"
      ]
     },
     "metadata": {},
     "output_type": "display_data"
    },
    {
     "data": {
      "text/plain": [
       "SuggestedLRs(lr_min=0.00036307806149125097, lr_steep=1.0964781722577754e-06)"
      ]
     },
     "execution_count": 49,
     "metadata": {},
     "output_type": "execute_result"
    },
    {
     "data": {
      "image/png": "[encoded data removed]",
      "text/plain": [
       "<Figure size 432x288 with 1 Axes>"
      ]
     },
     "metadata": {
      "needs_background": "light"
     },
     "output_type": "display_data"
    }
   ],
   "source": [
    "learn.lr_find()"
   ]
  },
  {
   "cell_type": "code",
   "execution_count": 81,
   "metadata": {},
   "outputs": [],
   "source": [
    "# from fastai2.vision.all import *\n",
    "# preds,y,losses = learn.get_preds(with_loss=True)\n",
    "# interp = ClassificationInterpretation(dls_clas, preds, y , losses)"
   ]
  },
  {
   "cell_type": "code",
   "execution_count": 50,
   "metadata": {},
   "outputs": [],
   "source": [
    "learn = learn.load_encoder('titles_model')"
   ]
  },
  {
   "cell_type": "code",
   "execution_count": 54,
   "metadata": {},
   "outputs": [
    {
     "data": {
      "text/html": [],
      "text/plain": [
       "<IPython.core.display.HTML object>"
      ]
     },
     "metadata": {},
     "output_type": "display_data"
    }
   ],
   "source": [
    "predictor = learn.predict(\"lockdown birthdays can be fun!\")"
   ]
  },
  {
   "cell_type": "code",
   "execution_count": 55,
   "metadata": {},
   "outputs": [
    {
     "data": {
      "text/plain": [
       "('Non-Political',\n",
       " tensor(4),\n",
       " tensor([0.0076, 0.0105, 0.0368, 0.0182, 0.8245, 0.0160, 0.0044, 0.0237, 0.0106, 0.0183, 0.0148, 0.0063, 0.0082]))"
      ]
     },
     "execution_count": 55,
     "metadata": {},
     "output_type": "execute_result"
    }
   ],
   "source": [
    "predictor"
   ]
  },
  {
   "cell_type": "code",
   "execution_count": 58,
   "metadata": {},
   "outputs": [],
   "source": [
    "learn.export('titles_model.pkl')"
   ]
  },
  {
   "cell_type": "code",
   "execution_count": null,
   "metadata": {},
   "outputs": [],
   "source": []
  }
 ],
 "metadata": {
  "kernelspec": {
   "display_name": "Python 3",
   "language": "python",
   "name": "python3"
  },
  "language_info": {
   "codemirror_mode": {
    "name": "ipython",
    "version": 3
   },
   "file_extension": ".py",
   "mimetype": "text/x-python",
   "name": "python",
   "nbconvert_exporter": "python",
   "pygments_lexer": "ipython3",
   "version": "3.7.7"
  }
 },
 "nbformat": 4,
 "nbformat_minor": 4
}
